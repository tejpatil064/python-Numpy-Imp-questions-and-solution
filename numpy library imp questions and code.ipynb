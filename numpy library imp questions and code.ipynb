{
 "cells": [
  {
   "cell_type": "code",
   "execution_count": null,
   "id": "6f64080d-cde7-4561-9487-0d256d0f05f9",
   "metadata": {},
   "outputs": [],
   "source": [
    "#Name : Tejas Narendra Patil \n",
    "# Id : 115351\n"
   ]
  },
  {
   "cell_type": "code",
   "execution_count": 2,
   "id": "df1604da-3652-40a1-ba72-5cc73db47d85",
   "metadata": {},
   "outputs": [],
   "source": [
    "import numpy as np"
   ]
  },
  {
   "cell_type": "code",
   "execution_count": 5,
   "id": "2c97d41c-7180-4074-b9b5-b6fc196e501d",
   "metadata": {},
   "outputs": [
    {
     "data": {
      "text/plain": [
       "array([0., 0., 0., 0., 0., 0., 0., 0., 0., 0.])"
      ]
     },
     "execution_count": 5,
     "metadata": {},
     "output_type": "execute_result"
    }
   ],
   "source": [
    "# 1. Create a null vector of size 10\n",
    "null_vector = np.zeros(10)\n",
    "null_vector"
   ]
  },
  {
   "cell_type": "code",
   "execution_count": 6,
   "id": "0af3debd-1382-47c4-ae75-973331f9ce90",
   "metadata": {},
   "outputs": [
    {
     "data": {
      "text/plain": [
       "80"
      ]
     },
     "execution_count": 6,
     "metadata": {},
     "output_type": "execute_result"
    }
   ],
   "source": [
    "# 2. How to find the memory size of an array\n",
    "memory_size = null_vector.nbytes\n",
    "memory_size"
   ]
  },
  {
   "cell_type": "code",
   "execution_count": 7,
   "id": "3cd09e15-889c-47c3-b946-be64377c438a",
   "metadata": {},
   "outputs": [
    {
     "data": {
      "text/plain": [
       "array([0., 0., 0., 0., 1., 0., 0., 0., 0., 0.])"
      ]
     },
     "execution_count": 7,
     "metadata": {},
     "output_type": "execute_result"
    }
   ],
   "source": [
    "# 3. Create a null vector of size 10 but the fifth value which is 1\n",
    "null_vector_with_one = np.zeros(10)\n",
    "null_vector_with_one[4] = 1\n",
    "\n",
    "null_vector_with_one"
   ]
  },
  {
   "cell_type": "code",
   "execution_count": 8,
   "id": "4e804fad-5254-4674-af2b-1ad9d3847d0d",
   "metadata": {},
   "outputs": [
    {
     "data": {
      "text/plain": [
       "array([15, 16, 17, 18, 19, 20, 21, 22, 23, 24, 25, 26, 27, 28, 29, 30, 31,\n",
       "       32, 33, 34, 35, 36, 37, 38, 39, 40, 41, 42, 43, 44, 45])"
      ]
     },
     "execution_count": 8,
     "metadata": {},
     "output_type": "execute_result"
    }
   ],
   "source": [
    "# 4. Create a vector with values ranging from 15 to 45\n",
    "vector_15_to_45 = np.arange(15, 46)\n",
    "vector_15_to_45"
   ]
  },
  {
   "cell_type": "code",
   "execution_count": 9,
   "id": "36c58e6d-1266-4207-9320-daa6ee57d13d",
   "metadata": {},
   "outputs": [
    {
     "data": {
      "text/plain": [
       "array([45, 44, 43, 42, 41, 40, 39, 38, 37, 36, 35, 34, 33, 32, 31, 30, 29,\n",
       "       28, 27, 26, 25, 24, 23, 22, 21, 20, 19, 18, 17, 16, 15])"
      ]
     },
     "execution_count": 9,
     "metadata": {},
     "output_type": "execute_result"
    }
   ],
   "source": [
    "# 5. Reverse a vector (The first element becomes last)\n",
    "reversed_vector = vector_15_to_45[::-1]\n",
    "reversed_vector"
   ]
  },
  {
   "cell_type": "code",
   "execution_count": 12,
   "id": "b3739f5c-617c-4de8-8aa6-4ecfe1e7de00",
   "metadata": {},
   "outputs": [
    {
     "name": "stdout",
     "output_type": "stream",
     "text": [
      "[0.2   0.333 0.429 0.5  ] [ 5 12 21 32] [-4 -4 -4 -4]\n"
     ]
    }
   ],
   "source": [
    "# 6. Write a NumPy program to add, subtract, multiply, divide arguments element-wise\n",
    "x = np.array([1, 2, 3, 4])\n",
    "y = np.array([5, 6, 7, 8])\n",
    "add = np.add(x, y)\n",
    "subtract = np.subtract(x, y)\n",
    "multiply = np.multiply(x, y)\n",
    "divide = np.divide(x, y)\n",
    "\n",
    "print(divide, multiply, subtract)"
   ]
  },
  {
   "cell_type": "code",
   "execution_count": 13,
   "id": "21342a9e-375b-4e2f-b0a1-d5d780458dd4",
   "metadata": {},
   "outputs": [
    {
     "data": {
      "text/plain": [
       "array([0., 0., 0., 0.])"
      ]
     },
     "execution_count": 13,
     "metadata": {},
     "output_type": "execute_result"
    }
   ],
   "source": [
    "# 7. Write a NumPy program to round elements of the array to the nearest integer\n",
    "rounded_array = np.round(divide)\n",
    "rounded_array"
   ]
  },
  {
   "cell_type": "code",
   "execution_count": 14,
   "id": "71cfc0d0-8967-4f14-8b95-54e9a0661d1a",
   "metadata": {},
   "outputs": [
    {
     "name": "stdout",
     "output_type": "stream",
     "text": [
      "[0. 0. 0. 0.] [1. 1. 1. 1.]\n"
     ]
    }
   ],
   "source": [
    "# 8. Write a NumPy program to get the floor and ceiling values of the elements of a NumPy array\n",
    "floor_values = np.floor(divide)\n",
    "ceiling_values = np.ceil(divide)\n",
    "print(floor_values,ceiling_values)"
   ]
  },
  {
   "cell_type": "code",
   "execution_count": 20,
   "id": "bc81e662-d223-4a4e-85ca-3239f4ba2053",
   "metadata": {},
   "outputs": [
    {
     "data": {
      "text/plain": [
       "array([4., 5., 6.])"
      ]
     },
     "execution_count": 20,
     "metadata": {},
     "output_type": "execute_result"
    }
   ],
   "source": [
    "# 9. Write a NumPy program to calculate mean across dimensions, in a 2D NumPy array\n",
    "array_2d = np.array([[1, 2, 3], [4, 5, 6], [7, 8, 9]])\n",
    "mean_across_dimensions = np.mean(array_2d, axis=0)\n",
    "array_2d\n",
    "mean_across_dimensions"
   ]
  },
  {
   "cell_type": "code",
   "execution_count": 21,
   "id": "c8c6c35c-f9ad-4d2a-93d2-8150bfc7a67a",
   "metadata": {},
   "outputs": [
    {
     "name": "stdout",
     "output_type": "stream",
     "text": [
      "[ 0 30 45 60 90] [0.    0.524 0.785 1.047 1.571]\n"
     ]
    }
   ],
   "source": [
    "# 10. Write a NumPy program to convert angles from degrees to radians for all elements in a given array.\n",
    "degrees_array = np.array([0, 30, 45, 60, 90])\n",
    "radians_array = np.radians(degrees_array)\n",
    "print(degrees_array, radians_array)"
   ]
  },
  {
   "cell_type": "code",
   "execution_count": 22,
   "id": "f6731eb3-ff6c-4ea2-ad8d-bca32a531a1d",
   "metadata": {},
   "outputs": [],
   "source": [
    "# 11. What is the use of all and any function in numpy?\n",
    "# all: Tests whether all array elements along a given axis evaluate to True.\n",
    "# any: Tests whether any array element along a given axis evaluates to True.\n"
   ]
  },
  {
   "cell_type": "code",
   "execution_count": 23,
   "id": "18aba9fb-f9ea-4ed1-8646-fc98e142cdf9",
   "metadata": {},
   "outputs": [
    {
     "data": {
      "text/plain": [
       "array([[0, 1, 2],\n",
       "       [3, 4, 5],\n",
       "       [6, 7, 8]])"
      ]
     },
     "execution_count": 23,
     "metadata": {},
     "output_type": "execute_result"
    }
   ],
   "source": [
    "# 12. Create a 3x3 matrix with values ranging from 0 to 8\n",
    "matrix_3x3 = np.arange(9).reshape(3, 3)\n",
    "matrix_3x3"
   ]
  },
  {
   "cell_type": "code",
   "execution_count": 24,
   "id": "16adc68d-c9bb-45fc-a918-548a96bad1f8",
   "metadata": {},
   "outputs": [
    {
     "data": {
      "text/plain": [
       "array([[2, 1, 0],\n",
       "       [5, 4, 3],\n",
       "       [8, 7, 6]])"
      ]
     },
     "execution_count": 24,
     "metadata": {},
     "output_type": "execute_result"
    }
   ],
   "source": [
    "# 13. How to reverse the columns of a 2D array?\n",
    "reversed_columns = matrix_3x3[:, ::-1]\n",
    "reversed_columns"
   ]
  },
  {
   "cell_type": "code",
   "execution_count": 25,
   "id": "183a6629-8ccd-444b-a962-01bf7781bc79",
   "metadata": {},
   "outputs": [
    {
     "data": {
      "text/plain": [
       "array([[6, 7, 8],\n",
       "       [3, 4, 5],\n",
       "       [0, 1, 2]])"
      ]
     },
     "execution_count": 25,
     "metadata": {},
     "output_type": "execute_result"
    }
   ],
   "source": [
    "# 14. How to reverse the rows of a 2D array?\n",
    "reversed_rows = matrix_3x3[::-1]\n",
    "reversed_rows"
   ]
  },
  {
   "cell_type": "code",
   "execution_count": 27,
   "id": "798be461-90bc-4449-97d3-0f66346fdec8",
   "metadata": {},
   "outputs": [
    {
     "data": {
      "text/plain": [
       "(array([0, 1, 4], dtype=int64),)"
      ]
     },
     "execution_count": 27,
     "metadata": {},
     "output_type": "execute_result"
    }
   ],
   "source": [
    "# 15. Find indices of non-zero elements from [1,2,0,0,4,0]\n",
    "non_zero_indices = np.nonzero([1, 2, 0, 0, 4, 0])\n",
    "non_zero_indices"
   ]
  },
  {
   "cell_type": "code",
   "execution_count": 28,
   "id": "0637ad51-ce45-4570-aa41-e49d55bed683",
   "metadata": {},
   "outputs": [
    {
     "data": {
      "text/plain": [
       "0.0"
      ]
     },
     "execution_count": 28,
     "metadata": {},
     "output_type": "execute_result"
    }
   ],
   "source": [
    "# 16. Write a NumPy program to compute the determinant of an array.\n",
    "determinant = np.linalg.det(matrix_3x3)\n",
    "determinant\n"
   ]
  },
  {
   "cell_type": "code",
   "execution_count": 29,
   "id": "4c5ffe9d-eb1f-456d-956d-30255a9e34a3",
   "metadata": {},
   "outputs": [
    {
     "data": {
      "text/plain": [
       "array([[-2. , -1. ,  1. ],\n",
       "       [-0.6,  0.6, -0.2],\n",
       "       [ 1.8,  0.2, -0.4]])"
      ]
     },
     "execution_count": 29,
     "metadata": {},
     "output_type": "execute_result"
    }
   ],
   "source": [
    "# 17. Write a NumPy program to compute the inverse of a given matrix\n",
    "inverse_matrix = np.linalg.inv(matrix_3x3 + np.eye(3))\n",
    "inverse_matrix\n"
   ]
  },
  {
   "cell_type": "code",
   "execution_count": 30,
   "id": "c172dd60-e785-4bd6-98de-bb4826e23e6f",
   "metadata": {},
   "outputs": [
    {
     "name": "stdout",
     "output_type": "stream",
     "text": [
      "[0.803 0.348 0.52  0.609 0.598 0.312 0.765 0.978 0.639 0.553 0.233 0.496\n",
      " 0.745 0.759 0.762 0.92  0.085 0.668 0.826 0.849 0.934 0.825 0.986 0.41\n",
      " 0.329 0.63  0.174 0.379 0.341 0.779] 0.6085486880646174\n"
     ]
    }
   ],
   "source": [
    "# 18. Create a random vector of size 30 and find the mean value\n",
    "random_vector = np.random.rand(30)\n",
    "mean_value = np.mean(random_vector)\n",
    "print(random_vector,mean_value)\n"
   ]
  },
  {
   "cell_type": "code",
   "execution_count": 33,
   "id": "f6344d81-e287-4565-af47-86b6975bca00",
   "metadata": {},
   "outputs": [
    {
     "data": {
      "text/plain": [
       "array([20, 21, 22, 23, 24, 25, 26, 27, 28, 29, 30, 31, 32, 33, 34, 35, 36,\n",
       "       37, 38, 39, 40, 41, 42, 43, 44, 45, 46, 47, 48, 49, 50])"
      ]
     },
     "execution_count": 33,
     "metadata": {},
     "output_type": "execute_result"
    }
   ],
   "source": [
    "# 19. How to extract all numbers between a given range from a NumPy array?\n",
    "array = np.arange(100)\n",
    "extracted_numbers = array[(array >= 20) & (array <= 50)]\n",
    "extracted_numbers"
   ]
  },
  {
   "cell_type": "code",
   "execution_count": 34,
   "id": "10edb981-f833-4b51-9884-0601b018b3d5",
   "metadata": {},
   "outputs": [
    {
     "data": {
      "text/plain": [
       "array([[[0.167, 0.303, 0.42 ],\n",
       "        [0.452, 0.285, 0.549],\n",
       "        [0.354, 0.412, 0.562]],\n",
       "\n",
       "       [[0.191, 0.076, 0.241],\n",
       "        [0.443, 0.126, 0.205],\n",
       "        [0.382, 0.259, 0.773]],\n",
       "\n",
       "       [[0.108, 0.638, 0.56 ],\n",
       "        [0.14 , 0.942, 0.999],\n",
       "        [0.531, 0.065, 0.746]]])"
      ]
     },
     "execution_count": 34,
     "metadata": {},
     "output_type": "execute_result"
    }
   ],
   "source": [
    "# 20. Create a 3x3x3 array with random values\n",
    "random_3x3x3 = np.random.rand(3, 3, 3)\n",
    "random_3x3x3"
   ]
  },
  {
   "cell_type": "code",
   "execution_count": 36,
   "id": "91043e6b-3166-4954-bb9f-cb354e1a75f6",
   "metadata": {},
   "outputs": [
    {
     "name": "stdout",
     "output_type": "stream",
     "text": [
      "[[0.78  0.528 0.732 0.051 0.444 0.775 0.738 0.871 0.633 0.401]\n",
      " [0.516 0.392 0.141 0.66  0.987 0.949 0.346 0.437 0.101 0.847]\n",
      " [0.763 0.235 0.566 0.996 0.057 0.627 0.345 0.222 0.294 0.096]\n",
      " [0.077 0.913 0.701 0.4   0.722 0.091 0.435 0.193 0.387 0.428]\n",
      " [0.493 0.74  0.198 0.864 0.239 0.962 0.174 0.933 0.08  0.392]\n",
      " [0.239 0.355 0.29  0.053 0.047 0.505 0.361 0.816 0.382 0.725]\n",
      " [0.628 0.52  0.87  0.129 0.633 0.813 0.265 0.926 0.701 0.41 ]\n",
      " [0.131 0.843 0.497 0.086 0.428 0.829 0.811 0.767 0.547 0.254]\n",
      " [0.88  0.136 0.684 0.154 0.654 0.113 0.692 0.795 0.092 0.997]\n",
      " [0.654 0.438 0.499 0.447 0.259 0.337 0.97  0.259 0.32  0.377]]\n",
      "0.04709371873138357 0.9971070575210196\n"
     ]
    }
   ],
   "source": [
    "# 21. Create a 10x10 array with random values and find the minimum and max value\n",
    "random_10x10 = np.random.rand(10, 10)\n",
    "min_value = np.min(random_10x10)\n",
    "max_value = np.max(random_10x10)\n",
    "print(random_10x10)\n",
    "print(min_value,max_value)"
   ]
  },
  {
   "cell_type": "code",
   "execution_count": 37,
   "id": "34dc720d-0d1a-4111-acb8-1af5de661756",
   "metadata": {},
   "outputs": [
    {
     "data": {
      "text/plain": [
       "array([[1., 1., 1., 1., 1., 1., 1., 1., 1., 1.],\n",
       "       [1., 0., 0., 0., 0., 0., 0., 0., 0., 1.],\n",
       "       [1., 0., 0., 0., 0., 0., 0., 0., 0., 1.],\n",
       "       [1., 0., 0., 0., 0., 0., 0., 0., 0., 1.],\n",
       "       [1., 0., 0., 0., 0., 0., 0., 0., 0., 1.],\n",
       "       [1., 0., 0., 0., 0., 0., 0., 0., 0., 1.],\n",
       "       [1., 0., 0., 0., 0., 0., 0., 0., 0., 1.],\n",
       "       [1., 0., 0., 0., 0., 0., 0., 0., 0., 1.],\n",
       "       [1., 0., 0., 0., 0., 0., 0., 0., 0., 1.],\n",
       "       [1., 1., 1., 1., 1., 1., 1., 1., 1., 1.]])"
      ]
     },
     "execution_count": 37,
     "metadata": {},
     "output_type": "execute_result"
    }
   ],
   "source": [
    "# 22. Create a 2d array with 1 on the border and 0 inside\n",
    "bordered_array = np.ones((10, 10))\n",
    "bordered_array[1:-1, 1:-1] = 0\n",
    "bordered_array"
   ]
  },
  {
   "cell_type": "code",
   "execution_count": 39,
   "id": "8ee50a36-ae47-4c9f-b706-aa9ae8146d58",
   "metadata": {},
   "outputs": [
    {
     "data": {
      "text/plain": [
       "array([[0, 0, 0, 0, 0],\n",
       "       [1, 0, 0, 0, 0],\n",
       "       [0, 2, 0, 0, 0],\n",
       "       [0, 0, 3, 0, 0],\n",
       "       [0, 0, 0, 4, 0]])"
      ]
     },
     "execution_count": 39,
     "metadata": {},
     "output_type": "execute_result"
    }
   ],
   "source": [
    "# 23. Create a 5x5 matrix with values 1,2,3,4 just below the diagonal\n",
    "matrix_with_diagonal = np.diag(1 + np.arange(4), k=-1)\n",
    "matrix_with_diagonal\n"
   ]
  },
  {
   "cell_type": "code",
   "execution_count": 40,
   "id": "cf30a470-50f3-428c-aad6-0651c33647b6",
   "metadata": {},
   "outputs": [
    {
     "data": {
      "text/plain": [
       "array([[1., 0., 0.],\n",
       "       [0., 1., 0.],\n",
       "       [0., 0., 1.]])"
      ]
     },
     "execution_count": 40,
     "metadata": {},
     "output_type": "execute_result"
    }
   ],
   "source": [
    "# 24. Create a 3x3 identity matrix\n",
    "identity_matrix = np.eye(3)\n",
    "identity_matrix"
   ]
  },
  {
   "cell_type": "code",
   "execution_count": 41,
   "id": "2241dc83-e51e-4dbf-8b03-1b3afa5d902f",
   "metadata": {},
   "outputs": [
    {
     "data": {
      "text/plain": [
       "array([[0, 1, 0, 1, 0, 1, 0, 1],\n",
       "       [1, 0, 1, 0, 1, 0, 1, 0],\n",
       "       [0, 1, 0, 1, 0, 1, 0, 1],\n",
       "       [1, 0, 1, 0, 1, 0, 1, 0],\n",
       "       [0, 1, 0, 1, 0, 1, 0, 1],\n",
       "       [1, 0, 1, 0, 1, 0, 1, 0],\n",
       "       [0, 1, 0, 1, 0, 1, 0, 1],\n",
       "       [1, 0, 1, 0, 1, 0, 1, 0]])"
      ]
     },
     "execution_count": 41,
     "metadata": {},
     "output_type": "execute_result"
    }
   ],
   "source": [
    "# 25. Create a 8x8 matrix and fill it with a checkerboard pattern\n",
    "checkerboard_matrix = np.zeros((8, 8), dtype=int)\n",
    "checkerboard_matrix[1::2, ::2] = 1\n",
    "checkerboard_matrix[::2, 1::2] = 1\n",
    "checkerboard_matrix"
   ]
  },
  {
   "cell_type": "code",
   "execution_count": 42,
   "id": "11cdafcf-10f6-4718-ad2f-f061c3a3513c",
   "metadata": {},
   "outputs": [
    {
     "name": "stdout",
     "output_type": "stream",
     "text": [
      "[[0.989 0.321]\n",
      " [0.518 0.478]\n",
      " [0.976 0.26 ]\n",
      " [1.092 0.727]\n",
      " [0.913 0.442]]\n"
     ]
    }
   ],
   "source": [
    "# 26. Multiply a 5x3 matrix by a 3x2 matrix (real matrix product)\n",
    "matrix_5x3 = np.random.rand(5, 3)\n",
    "matrix_3x2 = np.random.rand(3, 2)\n",
    "matrix_product = np.dot(matrix_5x3, matrix_3x2)\n",
    "print(matrix_product)"
   ]
  },
  {
   "cell_type": "code",
   "execution_count": 43,
   "id": "fb1d0daa-910b-4f4c-83fd-a227345a64de",
   "metadata": {},
   "outputs": [
    {
     "name": "stdout",
     "output_type": "stream",
     "text": [
      "[ 0  1  2 -3 -4 -5 -6 -7 -8  9]\n"
     ]
    }
   ],
   "source": [
    "# 27. Given a 1D array, negate all elements which are between 3 and 8, in place\n",
    "array_1d = np.arange(10)\n",
    "array_1d[(array_1d >= 3) & (array_1d <= 8)] *= -1\n",
    "print(array_1d)"
   ]
  },
  {
   "cell_type": "code",
   "execution_count": 44,
   "id": "7e4a2d1b-64e6-46b5-9ad2-c62952778181",
   "metadata": {},
   "outputs": [
    {
     "data": {
      "text/plain": [
       "array([-3., -2.,  2.,  3.])"
      ]
     },
     "execution_count": 44,
     "metadata": {},
     "output_type": "execute_result"
    }
   ],
   "source": [
    "# 28. How to round away from zero a float array?\n",
    "float_array = np.array([-2.5, -1.6, 1.5, 2.6])\n",
    "rounded_away_from_zero = np.copysign(np.ceil(np.abs(float_array)), float_array)\n",
    "rounded_away_from_zero"
   ]
  },
  {
   "cell_type": "code",
   "execution_count": 46,
   "id": "1847326d-a693-4557-93c9-2591e57b4a27",
   "metadata": {},
   "outputs": [
    {
     "data": {
      "text/plain": [
       "array([5])"
      ]
     },
     "execution_count": 46,
     "metadata": {},
     "output_type": "execute_result"
    }
   ],
   "source": [
    "# 29. How to find common values between the two arrays?\n",
    "array1 = np.array([1, 2, 3, 4, 5])\n",
    "array2 = np.array([5, 6, 7, 8, 9])\n",
    "common_values = np.intersect1d(array1, array2)\n",
    "common_values"
   ]
  },
  {
   "cell_type": "code",
   "execution_count": 47,
   "id": "0b4f3bad-a929-4fde-a49c-f9709898f5fb",
   "metadata": {},
   "outputs": [
    {
     "data": {
      "text/plain": [
       "array([0.091, 0.182, 0.273, 0.364, 0.455, 0.545, 0.636, 0.727, 0.818,\n",
       "       0.909])"
      ]
     },
     "execution_count": 47,
     "metadata": {},
     "output_type": "execute_result"
    }
   ],
   "source": [
    "# 30. Create a vector of size 10 with values ranging from 0 to 1, both excluded\n",
    "vector_0_to_1_excluded = np.linspace(0, 1, 12)[1:-1]\n",
    "vector_0_to_1_excluded"
   ]
  },
  {
   "cell_type": "code",
   "execution_count": 48,
   "id": "34c4513b-b253-4688-a420-d007f1641419",
   "metadata": {},
   "outputs": [
    {
     "name": "stdout",
     "output_type": "stream",
     "text": [
      "[0.774 0.55  0.588 0.994 0.326 0.899 0.171 0.065 0.575 0.034]\n",
      "[0.034 0.065 0.171 0.326 0.55  0.575 0.588 0.774 0.899 0.994]\n"
     ]
    }
   ],
   "source": [
    "# 31. Create a random vector of size 10 and sort it\n",
    "random_vector_10 = np.random.rand(10)\n",
    "sorted_vector = np.sort(random_vector_10)\n",
    "print(random_vector_10)\n",
    "print(sorted_vector)"
   ]
  },
  {
   "cell_type": "code",
   "execution_count": 49,
   "id": "303766d6-441b-4292-9046-59834891cc37",
   "metadata": {},
   "outputs": [
    {
     "name": "stdout",
     "output_type": "stream",
     "text": [
      "[[0. 1. 2. 3. 4.]\n",
      " [0. 1. 2. 3. 4.]\n",
      " [0. 1. 2. 3. 4.]\n",
      " [0. 1. 2. 3. 4.]\n",
      " [0. 1. 2. 3. 4.]]\n"
     ]
    }
   ],
   "source": [
    "# 32. Create a 5x5 matrix with row values ranging from 0 to 4\n",
    "matrix_5x5 = np.zeros((5, 5))\n",
    "matrix_5x5 += np.arange(5)\n",
    "print(matrix_5x5)"
   ]
  },
  {
   "cell_type": "code",
   "execution_count": 50,
   "id": "69e7abd4-fd98-4871-9d2d-6b4ece338379",
   "metadata": {},
   "outputs": [
    {
     "data": {
      "text/plain": [
       "False"
      ]
     },
     "execution_count": 50,
     "metadata": {},
     "output_type": "execute_result"
    }
   ],
   "source": [
    "# 33. Consider two random arrays A and B, check if they are equal\n",
    "A = np.random.rand(10)\n",
    "B = np.random.rand(10)\n",
    "arrays_equal = np.array_equal(A, B)\n",
    "arrays_equal"
   ]
  },
  {
   "cell_type": "code",
   "execution_count": 54,
   "id": "e20cbd00-c709-4845-871b-0902d0f9e6eb",
   "metadata": {},
   "outputs": [
    {
     "data": {
      "text/plain": [
       "array([0.408, 0.615, 0.387, 0.83 , 0.   , 0.572, 0.072, 0.482, 0.118,\n",
       "       0.713])"
      ]
     },
     "execution_count": 54,
     "metadata": {},
     "output_type": "execute_result"
    }
   ],
   "source": [
    "# 34. Create a random vector of size 10 and replace the maximum value by 0\n",
    "random_vector_10_2 = np.random.rand(10)\n",
    "random_vector_10_2[random_vector_10_2.argmax()] = 0\n",
    "random_vector_10_2"
   ]
  },
  {
   "cell_type": "code",
   "execution_count": 55,
   "id": "bf847cba-a108-4a83-935e-387b3935c583",
   "metadata": {},
   "outputs": [
    {
     "data": {
      "text/plain": [
       "(array([0, 4], dtype=int64),)"
      ]
     },
     "execution_count": 55,
     "metadata": {},
     "output_type": "execute_result"
    }
   ],
   "source": [
    "# 35. How to find out multiple indices of an item?\n",
    "array_with_duplicates = np.array([1, 2, 3, 4, 1, 2, 3, 4])\n",
    "indices_of_item = np.where(array_with_duplicates == 1)\n",
    "indices_of_item"
   ]
  },
  {
   "cell_type": "code",
   "execution_count": 56,
   "id": "97738c89-e722-462c-af76-87c92f8abd02",
   "metadata": {},
   "outputs": [
    {
     "data": {
      "text/plain": [
       "[((0,), 10), ((1,), 20), ((2,), 30), ((3,), 40)]"
      ]
     },
     "execution_count": 56,
     "metadata": {},
     "output_type": "execute_result"
    }
   ],
   "source": [
    "# 36. What is the equivalent of enumerate for NumPy arrays?\n",
    "array_for_enumerate = np.array([10, 20, 30, 40])\n",
    "enumerated_array = list(np.ndenumerate(array_for_enumerate))\n",
    "enumerated_array\n"
   ]
  },
  {
   "cell_type": "code",
   "execution_count": 57,
   "id": "d559e397-c205-4fda-a6af-de8d06b73e09",
   "metadata": {},
   "outputs": [
    {
     "data": {
      "text/plain": [
       "array([[0.483, 0.102, 0.839],\n",
       "       [0.991, 0.212, 0.251],\n",
       "       [0.775, 0.588, 0.837],\n",
       "       [0.807, 0.916, 0.167],\n",
       "       [0.305, 0.971, 0.519]])"
      ]
     },
     "execution_count": 57,
     "metadata": {},
     "output_type": "execute_result"
    }
   ],
   "source": [
    "# 37. How to sort an array by the nth column?\n",
    "unsorted_array = np.random.rand(5, 3)\n",
    "sorted_by_nth_column = unsorted_array[unsorted_array[:, 1].argsort()]\n",
    "sorted_by_nth_column"
   ]
  },
  {
   "cell_type": "code",
   "execution_count": 62,
   "id": "7a1c6dd9-8d48-4f8c-a9e7-ff3b6a358b28",
   "metadata": {},
   "outputs": [
    {
     "data": {
      "text/plain": [
       "array([[3, 4, 5],\n",
       "       [0, 1, 2],\n",
       "       [6, 7, 8]])"
      ]
     },
     "execution_count": 62,
     "metadata": {},
     "output_type": "execute_result"
    }
   ],
   "source": [
    "# 38. How to swap two rows of an array?\n",
    "array_to_swap_rows = np.arange(9).reshape(3, 3)\n",
    "array_to_swap_rows[[0, 1]] = array_to_swap_rows[[1, 0]]\n",
    "array_to_swap_rows"
   ]
  },
  {
   "cell_type": "code",
   "execution_count": 63,
   "id": "42546b7b-f618-4b02-a055-ecc24878d17f",
   "metadata": {},
   "outputs": [
    {
     "data": {
      "text/plain": [
       "4.0"
      ]
     },
     "execution_count": 63,
     "metadata": {},
     "output_type": "execute_result"
    }
   ],
   "source": [
    "# 39. How to compute the mean of a NumPy array?\n",
    "mean_of_array = np.mean(array_to_swap_rows)\n",
    "mean_of_array"
   ]
  },
  {
   "cell_type": "code",
   "execution_count": 64,
   "id": "ae297045-11ec-4860-ad6d-468bf50ebc11",
   "metadata": {},
   "outputs": [
    {
     "data": {
      "text/plain": [
       "4.0"
      ]
     },
     "execution_count": 64,
     "metadata": {},
     "output_type": "execute_result"
    }
   ],
   "source": [
    "# 40. How to compute the median of a NumPy array?\n",
    "median_of_array = np.median(array_to_swap_rows)\n",
    "median_of_array"
   ]
  },
  {
   "cell_type": "code",
   "execution_count": 65,
   "id": "89dd8a09-ea45-4687-ba1f-0db9ca0beb6c",
   "metadata": {},
   "outputs": [
    {
     "data": {
      "text/plain": [
       "2.581988897471611"
      ]
     },
     "execution_count": 65,
     "metadata": {},
     "output_type": "execute_result"
    }
   ],
   "source": [
    "# 41. How to compute the standard deviation of a NumPy array?\n",
    "std_of_array = np.std(array_to_swap_rows)\n",
    "std_of_array"
   ]
  },
  {
   "cell_type": "code",
   "execution_count": 66,
   "id": "f27df3d1-89ed-41ff-9851-133d57b96bed",
   "metadata": {},
   "outputs": [
    {
     "data": {
      "text/plain": [
       "ModeResult(mode=0, count=1)"
      ]
     },
     "execution_count": 66,
     "metadata": {},
     "output_type": "execute_result"
    }
   ],
   "source": [
    "# 42. How to compute the mode of a NumPy array?\n",
    "from scipy import stats\n",
    "mode_of_array = stats.mode(array_to_swap_rows, axis=None)\n",
    "mode_of_array\n"
   ]
  },
  {
   "cell_type": "code",
   "execution_count": 67,
   "id": "1b20bee3-fbe7-4b7a-b701-4c7a843f808b",
   "metadata": {},
   "outputs": [
    {
     "data": {
      "text/plain": [
       "array([0.466, 0.56 , 0.826, 0.928, 0.085])"
      ]
     },
     "execution_count": 67,
     "metadata": {},
     "output_type": "execute_result"
    }
   ],
   "source": [
    "# 43. How to print only 3 decimal places in a python NumPy array?\n",
    "np.set_printoptions(precision=3)\n",
    "array_with_precision = np.random.rand(5)\n",
    "array_with_precision"
   ]
  },
  {
   "cell_type": "code",
   "execution_count": 68,
   "id": "5c387372-da52-401a-84c8-ee597bf73b20",
   "metadata": {},
   "outputs": [
    {
     "data": {
      "text/plain": [
       "array([[0.043, 0.049],\n",
       "       [0.049, 0.073]])"
      ]
     },
     "execution_count": 68,
     "metadata": {},
     "output_type": "execute_result"
    }
   ],
   "source": [
    "# 44. Write a NumPy program to compute the covariance matrix of two given arrays\n",
    "array1 = np.random.rand(5)\n",
    "array2 = np.random.rand(5)\n",
    "covariance_matrix = np.cov(array1, array2)\n",
    "covariance_matrix"
   ]
  },
  {
   "cell_type": "code",
   "execution_count": 69,
   "id": "fd93b8a7-053b-4d0a-a718-452b4dd5498a",
   "metadata": {},
   "outputs": [
    {
     "data": {
      "text/plain": [
       "1"
      ]
     },
     "execution_count": 69,
     "metadata": {},
     "output_type": "execute_result"
    }
   ],
   "source": [
    "# 45. How to find the most frequent value in a NumPy array?\n",
    "array_with_frequencies = np.array([1, 2, 3, 1, 2, 1])\n",
    "most_frequent_value = np.bincount(array_with_frequencies).argmax()\n",
    "most_frequent_value"
   ]
  },
  {
   "cell_type": "code",
   "execution_count": 70,
   "id": "c008f918-dda0-40ab-83d0-b9259cafbc63",
   "metadata": {},
   "outputs": [
    {
     "data": {
      "text/plain": [
       "array([[[ 0,  1,  2],\n",
       "        [ 3,  4,  5],\n",
       "        [ 6,  7,  8]],\n",
       "\n",
       "       [[ 9, 10, 11],\n",
       "        [12, 13, 14],\n",
       "        [15, 16, 17]],\n",
       "\n",
       "       [[18, 19, 20],\n",
       "        [21, 22, 23],\n",
       "        [24, 25, 26]]])"
      ]
     },
     "execution_count": 70,
     "metadata": {},
     "output_type": "execute_result"
    }
   ],
   "source": [
    "# 46. How to convert 1D array to 3D array?\n",
    "array_1d_to_3d = np.arange(27).reshape(3, 3, 3)\n",
    "array_1d_to_3d"
   ]
  },
  {
   "cell_type": "code",
   "execution_count": 72,
   "id": "29692a8d-2fee-497d-9b21-09fa330bc1fd",
   "metadata": {},
   "outputs": [
    {
     "data": {
      "text/plain": [
       "array([[ 0,  1,  2,  3,  4,  5,  6,  7,  8],\n",
       "       [ 9, 10, 11, 12, 13, 14, 15, 16, 17],\n",
       "       [18, 19, 20, 21, 22, 23, 24, 25, 26],\n",
       "       [27, 28, 29, 30, 31, 32, 33, 34, 35],\n",
       "       [36, 37, 38, 39, 40, 41, 42, 43, 44],\n",
       "       [45, 46, 47, 48, 49, 50, 51, 52, 53],\n",
       "       [54, 55, 56, 57, 58, 59, 60, 61, 62],\n",
       "       [63, 64, 65, 66, 67, 68, 69, 70, 71],\n",
       "       [72, 73, 74, 75, 76, 77, 78, 79, 80]])"
      ]
     },
     "execution_count": 72,
     "metadata": {},
     "output_type": "execute_result"
    }
   ],
   "source": [
    "# 47. How to convert 4D array to 2D array?\n",
    "array_4d = np.arange(81).reshape(3, 3, 3, 3)\n",
    "array_4d_to_2d = array_4d.reshape(9, 9)\n",
    "array_4d_to_2d\n"
   ]
  },
  {
   "cell_type": "code",
   "execution_count": 73,
   "id": "1abc2247-e201-4ce4-b6b8-fce4b4dcfbb3",
   "metadata": {},
   "outputs": [
    {
     "data": {
      "text/plain": [
       "array([0., 0., 0., 0., 0., 0., 0., 0., 0., 0.])"
      ]
     },
     "execution_count": 73,
     "metadata": {},
     "output_type": "execute_result"
    }
   ],
   "source": [
    "# 48. Create a Numpy array filled with all zeros\n",
    "zeros_array = np.zeros(10)\n",
    "zeros_array"
   ]
  },
  {
   "cell_type": "code",
   "execution_count": 75,
   "id": "b2301e3f-d8a3-435e-b096-867f52cf06cc",
   "metadata": {},
   "outputs": [
    {
     "name": "stdout",
     "output_type": "stream",
     "text": [
      "3 3\n"
     ]
    }
   ],
   "source": [
    "# 49. Find the number of rows and columns of a given matrix using NumPy\n",
    "rows, columns = matrix_3x3.shape\n",
    "print(rows,columns)"
   ]
  }
 ],
 "metadata": {
  "kernelspec": {
   "display_name": "Python 3 (ipykernel)",
   "language": "python",
   "name": "python3"
  },
  "language_info": {
   "codemirror_mode": {
    "name": "ipython",
    "version": 3
   },
   "file_extension": ".py",
   "mimetype": "text/x-python",
   "name": "python",
   "nbconvert_exporter": "python",
   "pygments_lexer": "ipython3",
   "version": "3.11.7"
  }
 },
 "nbformat": 4,
 "nbformat_minor": 5
}
